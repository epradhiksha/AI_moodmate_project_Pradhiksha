{
 "cells": [
  {
   "cell_type": "code",
   "execution_count": 1,
   "id": "00386ad7",
   "metadata": {},
   "outputs": [],
   "source": [
    "\n",
    "\n",
    "import pandas as pd\n",
    "import numpy as np\n",
    "from keras.layers import Dense, Conv2D, Dropout, Flatten\n",
    "from keras.models import Sequential\n",
    "from keras.layers import MaxPool2D\n",
    "import os\n",
    "from PIL import Image"
   ]
  },
  {
   "cell_type": "code",
   "execution_count": 2,
   "id": "46de43d4",
   "metadata": {},
   "outputs": [],
   "source": [
    "train=\"train\"\n",
    "test=\"test\"\n"
   ]
  },
  {
   "cell_type": "code",
   "execution_count": 3,
   "id": "178530ff",
   "metadata": {},
   "outputs": [],
   "source": [
    "#storing the path in the list\n",
    "y_train=[]\n",
    "x_train=[]\n",
    "for i in os.listdir(train):\n",
    "    for j in os.listdir(os.path.join(train,i)):\n",
    "        y_train.append(i)\n",
    "        x_train.append(os.path.join(train,i,j))"
   ]
  },
  {
   "cell_type": "code",
   "execution_count": 4,
   "id": "388114ca",
   "metadata": {},
   "outputs": [
    {
     "data": {
      "text/plain": [
       "'train\\\\angry\\\\Training_10120469.jpg'"
      ]
     },
     "execution_count": 4,
     "metadata": {},
     "output_type": "execute_result"
    }
   ],
   "source": [
    "x_train[1]"
   ]
  },
  {
   "cell_type": "code",
   "execution_count": 5,
   "id": "2b1b76b0",
   "metadata": {},
   "outputs": [
    {
     "data": {
      "image/jpeg": "[encoded data removed]",
      "image/png": "[encoded data removed]",
      "text/plain": [
       "<PIL.JpegImagePlugin.JpegImageFile image mode=L size=48x48>"
      ]
     },
     "execution_count": 5,
     "metadata": {},
     "output_type": "execute_result"
    }
   ],
   "source": [
    "Image.open(x_train[1])"
   ]
  },
  {
   "cell_type": "code",
   "execution_count": 7,
   "id": "08d3628e",
   "metadata": {},
   "outputs": [
    {
     "data": {
      "image/png": "[encoded data removed]",
      "text/plain": [
       "<Figure size 300x200 with 1 Axes>"
      ]
     },
     "metadata": {},
     "output_type": "display_data"
    }
   ],
   "source": [
    "import matplotlib.pyplot as plt\n",
    "\n",
    "a = Image.open(x_train[1])\n",
    "plt.figure(figsize=(3,2))\n",
    "plt.imshow(a, cmap='gray')\n",
    "plt.xlabel(y_train[1])\n",
    "plt.show()\n"
   ]
  },
  {
   "cell_type": "code",
   "execution_count": 8,
   "id": "75ca8ce1",
   "metadata": {},
   "outputs": [
    {
     "data": {
      "text/plain": [
       "(48, 48)"
      ]
     },
     "execution_count": 8,
     "metadata": {},
     "output_type": "execute_result"
    }
   ],
   "source": [
    "np.array(a).shape"
   ]
  },
  {
   "cell_type": "code",
   "execution_count": 9,
   "id": "5bb2da4e",
   "metadata": {},
   "outputs": [
    {
     "name": "stdout",
     "output_type": "stream",
     "text": [
      "size of y 28709\n",
      "size of x 28709\n"
     ]
    }
   ],
   "source": [
    "print(\"size of y\" ,len(y_train))\n",
    "print(\"size of x\",len(x_train))"
   ]
  },
  {
   "cell_type": "code",
   "execution_count": 10,
   "id": "c0f37bbc",
   "metadata": {},
   "outputs": [],
   "source": [
    "img = []\n",
    "for path in x_train:\n",
    "    image = Image.open(path)\n",
    "    img.append(np.array(image))"
   ]
  },
  {
   "cell_type": "code",
   "execution_count": 11,
   "id": "c0f35b87",
   "metadata": {},
   "outputs": [
    {
     "data": {
      "text/plain": [
       "array([[ 29,  24,  29, ...,  11,  12,  17],\n",
       "       [ 17,  14,  14, ...,  15,  20,  23],\n",
       "       [  0,   4,   3, ...,  33,  35,  23],\n",
       "       ...,\n",
       "       [250, 248, 247, ...,  44,  47,  43],\n",
       "       [247, 248, 248, ...,  41,  58,  55],\n",
       "       [249, 248, 244, ...,  15,  24,  24]], shape=(48, 48), dtype=uint8)"
      ]
     },
     "execution_count": 11,
     "metadata": {},
     "output_type": "execute_result"
    }
   ],
   "source": [
    "img[1]"
   ]
  },
  {
   "cell_type": "code",
   "execution_count": 12,
   "id": "2203fe4c",
   "metadata": {},
   "outputs": [
    {
     "data": {
      "text/plain": [
       "(48, 48)"
      ]
     },
     "execution_count": 12,
     "metadata": {},
     "output_type": "execute_result"
    }
   ],
   "source": [
    "img[1].shape"
   ]
  },
  {
   "cell_type": "code",
   "execution_count": 13,
   "id": "f6c6765a",
   "metadata": {},
   "outputs": [],
   "source": [
    "\n",
    "x_train=np.array(img)\n",
    "x_train=x_train/255\n",
    "y_train=np.array(y_train)"
   ]
  },
  {
   "cell_type": "code",
   "execution_count": 15,
   "id": "b519620c",
   "metadata": {},
   "outputs": [],
   "source": [
    "from sklearn.preprocessing import LabelEncoder\n",
    "le=LabelEncoder()\n",
    "y_train=le.fit_transform(y_train)#0,1,2,3,4,5,6"
   ]
  },
  {
   "cell_type": "code",
   "execution_count": 16,
   "id": "16401248",
   "metadata": {},
   "outputs": [],
   "source": [
    "y_test=[]\n",
    "x_test=[]\n",
    "for i in os.listdir(test):\n",
    "    for j in os.listdir(os.path.join(test,i)):\n",
    "        y_test.append(i)\n",
    "        x_test.append(os.path.join(test,i,j))\n",
    "        "
   ]
  },
  {
   "cell_type": "code",
   "execution_count": 17,
   "id": "79e7ff90",
   "metadata": {},
   "outputs": [
    {
     "name": "stdout",
     "output_type": "stream",
     "text": [
      "size of x test 7178\n",
      "size of y test 7178\n"
     ]
    }
   ],
   "source": [
    "print(\"size of x test\",len(x_test))\n",
    "print(\"size of y test\",len(y_test))"
   ]
  },
  {
   "cell_type": "code",
   "execution_count": 18,
   "id": "d7627865",
   "metadata": {},
   "outputs": [],
   "source": [
    "img=[]\n",
    "for i in x_test:\n",
    "    image=Image.open(i)\n",
    "    img.append(np.array(image))"
   ]
  },
  {
   "cell_type": "code",
   "execution_count": 19,
   "id": "0bf39872",
   "metadata": {},
   "outputs": [],
   "source": [
    "x_test=np.array(img)\n",
    "x_test=x_test/255\n",
    "y_test=np.array(y_test)\n"
   ]
  },
  {
   "cell_type": "code",
   "execution_count": 20,
   "id": "082b7969",
   "metadata": {},
   "outputs": [
    {
     "name": "stderr",
     "output_type": "stream",
     "text": [
      "c:\\Users\\lenovo\\Desktop\\Infosys springboard\\virtual\\Lib\\site-packages\\keras\\src\\layers\\convolutional\\base_conv.py:113: UserWarning: Do not pass an `input_shape`/`input_dim` argument to a layer. When using Sequential models, prefer using an `Input(shape)` object as the first layer in the model instead.\n",
      "  super().__init__(activity_regularizer=activity_regularizer, **kwargs)\n"
     ]
    }
   ],
   "source": [
    "\n",
    "model=Sequential([\n",
    "    #1st convo layer\n",
    "    Conv2D(filters=32, kernel_size=(3, 3), activation='relu', input_shape=(48,48,1)),\n",
    "    # 1st pooling layer\n",
    "    MaxPool2D(pool_size=(2, 2)),\n",
    "    # 2nd convo layer\n",
    "    Conv2D(filters=64, kernel_size=(3, 3), activation='relu'),    \n",
    "    #2nd pooling layer\n",
    "    MaxPool2D(pool_size=(2, 2)),\n",
    "    #Dropout layer\n",
    "    Dropout(0.2),\n",
    "    #3rd convo layer\n",
    "    Conv2D(filters=128, kernel_size=(3, 3), activation='relu'),    \n",
    "    #3rd pooling layer\n",
    "    MaxPool2D(pool_size=(2, 2)),\n",
    "    #4th convo layer\n",
    "    Conv2D(filters=128, kernel_size=(3, 3), activation='relu'),    \n",
    "    #4th pooling layer\n",
    "    MaxPool2D(pool_size=(2, 2)),\n",
    "    # Dropout layer\n",
    "    Dropout(0.2),\n",
    "    # Flattens the input\n",
    "    Flatten(),\n",
    "    # Dense layer\n",
    "    Dense(128, activation='relu'),\n",
    "    Dropout(0.2),\n",
    "    Dense(7, activation='softmax')    \n",
    "])\n",
    "    \n",
    "model.compile(optimizer='adam', loss='sparse_categorical_crossentropy', metrics=['accuracy'])"
   ]
  },
  {
   "cell_type": "code",
   "execution_count": 21,
   "id": "0f79fa47",
   "metadata": {},
   "outputs": [
    {
     "name": "stdout",
     "output_type": "stream",
     "text": [
      "Epoch 1/20\n",
      "\u001b[1m957/957\u001b[0m \u001b[32m━━━━━━━━━━━━━━━━━━━━\u001b[0m\u001b[37m\u001b[0m \u001b[1m11s\u001b[0m 11ms/step - accuracy: 0.2549 - loss: 1.7952\n",
      "Epoch 2/20\n",
      "\u001b[1m957/957\u001b[0m \u001b[32m━━━━━━━━━━━━━━━━━━━━\u001b[0m\u001b[37m\u001b[0m \u001b[1m10s\u001b[0m 11ms/step - accuracy: 0.3770 - loss: 1.5798\n",
      "Epoch 3/20\n",
      "\u001b[1m957/957\u001b[0m \u001b[32m━━━━━━━━━━━━━━━━━━━━\u001b[0m\u001b[37m\u001b[0m \u001b[1m10s\u001b[0m 10ms/step - accuracy: 0.4461 - loss: 1.4236\n",
      "Epoch 4/20\n",
      "\u001b[1m957/957\u001b[0m \u001b[32m━━━━━━━━━━━━━━━━━━━━\u001b[0m\u001b[37m\u001b[0m \u001b[1m10s\u001b[0m 10ms/step - accuracy: 0.4781 - loss: 1.3464\n",
      "Epoch 5/20\n",
      "\u001b[1m957/957\u001b[0m \u001b[32m━━━━━━━━━━━━━━━━━━━━\u001b[0m\u001b[37m\u001b[0m \u001b[1m13s\u001b[0m 13ms/step - accuracy: 0.5054 - loss: 1.2823\n",
      "Epoch 6/20\n",
      "\u001b[1m957/957\u001b[0m \u001b[32m━━━━━━━━━━━━━━━━━━━━\u001b[0m\u001b[37m\u001b[0m \u001b[1m13s\u001b[0m 13ms/step - accuracy: 0.5290 - loss: 1.2380\n",
      "Epoch 7/20\n",
      "\u001b[1m957/957\u001b[0m \u001b[32m━━━━━━━━━━━━━━━━━━━━\u001b[0m\u001b[37m\u001b[0m \u001b[1m13s\u001b[0m 13ms/step - accuracy: 0.5455 - loss: 1.1952\n",
      "Epoch 8/20\n",
      "\u001b[1m957/957\u001b[0m \u001b[32m━━━━━━━━━━━━━━━━━━━━\u001b[0m\u001b[37m\u001b[0m \u001b[1m13s\u001b[0m 14ms/step - accuracy: 0.5567 - loss: 1.1654\n",
      "Epoch 9/20\n",
      "\u001b[1m957/957\u001b[0m \u001b[32m━━━━━━━━━━━━━━━━━━━━\u001b[0m\u001b[37m\u001b[0m \u001b[1m12s\u001b[0m 13ms/step - accuracy: 0.5661 - loss: 1.1366\n",
      "Epoch 10/20\n",
      "\u001b[1m957/957\u001b[0m \u001b[32m━━━━━━━━━━━━━━━━━━━━\u001b[0m\u001b[37m\u001b[0m \u001b[1m15s\u001b[0m 16ms/step - accuracy: 0.5802 - loss: 1.1058\n",
      "Epoch 11/20\n",
      "\u001b[1m957/957\u001b[0m \u001b[32m━━━━━━━━━━━━━━━━━━━━\u001b[0m\u001b[37m\u001b[0m \u001b[1m16s\u001b[0m 16ms/step - accuracy: 0.5867 - loss: 1.0871\n",
      "Epoch 12/20\n",
      "\u001b[1m957/957\u001b[0m \u001b[32m━━━━━━━━━━━━━━━━━━━━\u001b[0m\u001b[37m\u001b[0m \u001b[1m16s\u001b[0m 17ms/step - accuracy: 0.5985 - loss: 1.0572\n",
      "Epoch 13/20\n",
      "\u001b[1m957/957\u001b[0m \u001b[32m━━━━━━━━━━━━━━━━━━━━\u001b[0m\u001b[37m\u001b[0m \u001b[1m15s\u001b[0m 16ms/step - accuracy: 0.6041 - loss: 1.0402\n",
      "Epoch 14/20\n",
      "\u001b[1m957/957\u001b[0m \u001b[32m━━━━━━━━━━━━━━━━━━━━\u001b[0m\u001b[37m\u001b[0m \u001b[1m17s\u001b[0m 17ms/step - accuracy: 0.6137 - loss: 1.0187\n",
      "Epoch 15/20\n",
      "\u001b[1m957/957\u001b[0m \u001b[32m━━━━━━━━━━━━━━━━━━━━\u001b[0m\u001b[37m\u001b[0m \u001b[1m15s\u001b[0m 15ms/step - accuracy: 0.6225 - loss: 1.0014\n",
      "Epoch 16/20\n",
      "\u001b[1m957/957\u001b[0m \u001b[32m━━━━━━━━━━━━━━━━━━━━\u001b[0m\u001b[37m\u001b[0m \u001b[1m17s\u001b[0m 17ms/step - accuracy: 0.6306 - loss: 0.9825\n",
      "Epoch 17/20\n",
      "\u001b[1m957/957\u001b[0m \u001b[32m━━━━━━━━━━━━━━━━━━━━\u001b[0m\u001b[37m\u001b[0m \u001b[1m13s\u001b[0m 14ms/step - accuracy: 0.6369 - loss: 0.9634\n",
      "Epoch 18/20\n",
      "\u001b[1m957/957\u001b[0m \u001b[32m━━━━━━━━━━━━━━━━━━━━\u001b[0m\u001b[37m\u001b[0m \u001b[1m13s\u001b[0m 14ms/step - accuracy: 0.6394 - loss: 0.9525\n",
      "Epoch 19/20\n",
      "\u001b[1m957/957\u001b[0m \u001b[32m━━━━━━━━━━━━━━━━━━━━\u001b[0m\u001b[37m\u001b[0m \u001b[1m12s\u001b[0m 13ms/step - accuracy: 0.6483 - loss: 0.9301\n",
      "Epoch 20/20\n",
      "\u001b[1m957/957\u001b[0m \u001b[32m━━━━━━━━━━━━━━━━━━━━\u001b[0m\u001b[37m\u001b[0m \u001b[1m14s\u001b[0m 14ms/step - accuracy: 0.6517 - loss: 0.9227\n"
     ]
    },
    {
     "data": {
      "text/plain": [
       "<keras.src.callbacks.history.History at 0x2a7eca2c050>"
      ]
     },
     "execution_count": 21,
     "metadata": {},
     "output_type": "execute_result"
    }
   ],
   "source": [
    "model.fit(x_train,y_train,epochs=20, batch_size=30)\n"
   ]
  },
  {
   "cell_type": "code",
   "execution_count": 27,
   "id": "3b544730",
   "metadata": {},
   "outputs": [
    {
     "name": "stdout",
     "output_type": "stream",
     "text": [
      "\u001b[1m225/225\u001b[0m \u001b[32m━━━━━━━━━━━━━━━━━━━━\u001b[0m\u001b[37m\u001b[0m \u001b[1m1s\u001b[0m 6ms/step\n"
     ]
    }
   ],
   "source": [
    "predictions = model.predict(x_test)\n",
    "\n",
    "\n"
   ]
  },
  {
   "cell_type": "code",
   "execution_count": 28,
   "id": "e06276b2",
   "metadata": {},
   "outputs": [
    {
     "name": "stdout",
     "output_type": "stream",
     "text": [
      "Shape of y_test: (7178,)\n",
      "Shape of predictions: (7178, 7)\n",
      "shape of x_test: (7178, 48, 48)\n"
     ]
    }
   ],
   "source": [
    "print(\"Shape of y_test:\", y_test.shape)\n",
    "print(\"Shape of predictions:\", predictions.shape)\n",
    "print(\"shape of x_test:\", x_test.shape)"
   ]
  },
  {
   "cell_type": "code",
   "execution_count": 29,
   "id": "366b645d",
   "metadata": {},
   "outputs": [],
   "source": [
    "\n",
    "predictions = np.argmax(predictions, axis=1)\n",
    "\n",
    "predictions=le.inverse_transform(predictions)"
   ]
  },
  {
   "cell_type": "code",
   "execution_count": 30,
   "id": "a449de21",
   "metadata": {},
   "outputs": [
    {
     "name": "stdout",
     "output_type": "stream",
     "text": [
      "  Actual Predicted\n",
      "0  angry     happy\n",
      "1  angry  surprise\n",
      "2  angry       sad\n",
      "3  angry       sad\n",
      "4  angry     angry\n",
      "5  angry      fear\n",
      "6  angry  surprise\n",
      "7  angry     angry\n",
      "8  angry   neutral\n",
      "9  angry     angry\n",
      "Accuracy: 0.5834494288102535\n"
     ]
    }
   ],
   "source": [
    "from sklearn.metrics import accuracy_score\n",
    "print(pd.DataFrame({'Actual': y_test[:10], 'Predicted': predictions[:10]}))\n",
    "print(\"Accuracy:\", accuracy_score(y_test, predictions))"
   ]
  },
  {
   "cell_type": "code",
   "execution_count": null,
   "id": "38b45f5e",
   "metadata": {},
   "outputs": [],
   "source": []
  }
 ],
 "metadata": {
  "kernelspec": {
   "display_name": "virtual",
   "language": "python",
   "name": "python3"
  },
  "language_info": {
   "codemirror_mode": {
    "name": "ipython",
    "version": 3
   },
   "file_extension": ".py",
   "mimetype": "text/x-python",
   "name": "python",
   "nbconvert_exporter": "python",
   "pygments_lexer": "ipython3",
   "version": "3.13.5"
  }
 },
 "nbformat": 4,
 "nbformat_minor": 5
}
