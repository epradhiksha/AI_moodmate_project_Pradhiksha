{
 "cells": [
  {
   "cell_type": "code",
   "execution_count": 1,
   "id": "fc313624",
   "metadata": {},
   "outputs": [],
   "source": [
    "import cv2\n",
    "import numpy as np\n",
    "from keras.models import Sequential\n",
    "from keras.layers import GlobalAveragePooling2D, Flatten, Dense, Dropout\n",
    "from tensorflow.keras.preprocessing.image import ImageDataGenerator    \n",
    "from keras.applications import MobileNetV2\n",
    "from keras.optimizers import Adam\n",
    "from keras.callbacks import EarlyStopping\n",
    "from sklearn.model_selection import train_test_split\n",
    "from sklearn.metrics import accuracy_score"
   ]
  },
  {
   "cell_type": "markdown",
   "id": "6fb7fa4f",
   "metadata": {},
   "source": [
    "ImageDataGenerator.flow_from_directory(), the default behavior is converts to RGB"
   ]
  },
  {
   "cell_type": "code",
   "execution_count": 3,
   "id": "d6dfedce",
   "metadata": {},
   "outputs": [
    {
     "name": "stdout",
     "output_type": "stream",
     "text": [
      "Found 22968 images belonging to 7 classes.\n",
      "Found 5741 images belonging to 7 classes.\n",
      "Found 7178 images belonging to 7 classes.\n"
     ]
    }
   ],
   "source": [
    "import tensorflow as tf\n",
    "\n",
    "# Data augmentation for training\n",
    "train_gen = ImageDataGenerator(\n",
    "    preprocessing_function=tf.keras.applications.mobilenet_v2.preprocess_input,\n",
    "    validation_split=0.2,\n",
    "    rotation_range=20,\n",
    "    width_shift_range=0.2,\n",
    "    height_shift_range=0.2,\n",
    "    shear_range=0.2,\n",
    "    zoom_range=0.2,\n",
    "    horizontal_flip=True\n",
    ")\n",
    "\n",
    "# Training data (80%)\n",
    "train_data = train_gen.flow_from_directory(\n",
    "    'train',\n",
    "    target_size=(224,224),\n",
    "    batch_size=32,\n",
    "    class_mode='categorical',\n",
    "    subset='training',\n",
    "    shuffle=True\n",
    ")\n",
    "\n",
    "# Validation data (20%)\n",
    "val_data = train_gen.flow_from_directory(\n",
    "    'train',\n",
    "    target_size=(224,224),\n",
    "    batch_size=32,\n",
    "    class_mode='categorical',\n",
    "    subset='validation',\n",
    "    shuffle=False\n",
    ")\n",
    "\n",
    "# Test data (separate unseen dataset)\n",
    "test_gen = ImageDataGenerator(\n",
    "    preprocessing_function=tf.keras.applications.mobilenet_v2.preprocess_input\n",
    ")\n",
    "\n",
    "test_data = test_gen.flow_from_directory(\n",
    "    'test',\n",
    "    target_size=(224,224),\n",
    "    batch_size=32,\n",
    "    class_mode='categorical',\n",
    "    shuffle=False\n",
    ")\n"
   ]
  },
  {
   "cell_type": "code",
   "execution_count": 6,
   "id": "39bd91cf",
   "metadata": {},
   "outputs": [
    {
     "data": {
      "text/plain": [
       "(224, 224, 3)"
      ]
     },
     "execution_count": 6,
     "metadata": {},
     "output_type": "execute_result"
    }
   ],
   "source": [
    "train_data.image_shape"
   ]
  },
  {
   "cell_type": "code",
   "execution_count": 7,
   "id": "3a41eb68",
   "metadata": {},
   "outputs": [
    {
     "data": {
      "text/plain": [
       "array([0, 0, 0, ..., 6, 6, 6], shape=(22968,), dtype=int32)"
      ]
     },
     "execution_count": 7,
     "metadata": {},
     "output_type": "execute_result"
    }
   ],
   "source": [
    "train_data.labels"
   ]
  },
  {
   "cell_type": "code",
   "execution_count": null,
   "id": "9dcc20c8",
   "metadata": {},
   "outputs": [],
   "source": []
  },
  {
   "cell_type": "code",
   "execution_count": null,
   "id": "cad52886",
   "metadata": {},
   "outputs": [],
   "source": [
    "base=MobileNetV2(weights='imagenet', include_top=False, input_shape=(224, 224, 3))\n",
    "for layer in base.layers:\n",
    "    layer.trainable=False\n",
    "model=Sequential([\n",
    "    base,\n",
    "    GlobalAveragePooling2D(),\n",
    "    Dropout(0.3),\n",
    "    Dense(7, activation='softmax')\n",
    "])"
   ]
  },
  {
   "cell_type": "code",
   "execution_count": null,
   "id": "4c842f0d",
   "metadata": {},
   "outputs": [],
   "source": []
  },
  {
   "cell_type": "code",
   "execution_count": 9,
   "id": "da9aafc6",
   "metadata": {},
   "outputs": [],
   "source": [
    "model.compile(optimizer=Adam(learning_rate=0.001),loss='categorical_crossentropy',metrics=['accuracy'])\n",
    "early_stopping=EarlyStopping(monitor='val_loss', patience=3, restore_best_weights=True)\n"
   ]
  },
  {
   "cell_type": "code",
   "execution_count": null,
   "id": "c0caa583",
   "metadata": {},
   "outputs": [
    {
     "name": "stderr",
     "output_type": "stream",
     "text": [
      "c:\\Users\\lenovo\\Desktop\\MoodMate\\virtual\\Lib\\site-packages\\keras\\src\\trainers\\data_adapters\\py_dataset_adapter.py:121: UserWarning: Your `PyDataset` class should call `super().__init__(**kwargs)` in its constructor. `**kwargs` can include `workers`, `use_multiprocessing`, `max_queue_size`. Do not pass these arguments to `fit()`, as they will be ignored.\n",
      "  self._warn_if_super_not_called()\n"
     ]
    },
    {
     "name": "stdout",
     "output_type": "stream",
     "text": [
      "Epoch 1/10\n",
      "\u001b[1m718/718\u001b[0m \u001b[32m━━━━━━━━━━━━━━━━━━━━\u001b[0m\u001b[37m\u001b[0m \u001b[1m440s\u001b[0m 609ms/step - accuracy: 0.3032 - loss: 1.8207 - val_accuracy: 0.3790 - val_loss: 1.6269\n",
      "Epoch 2/10\n",
      "\u001b[1m718/718\u001b[0m \u001b[32m━━━━━━━━━━━━━━━━━━━━\u001b[0m\u001b[37m\u001b[0m \u001b[1m376s\u001b[0m 523ms/step - accuracy: 0.3578 - loss: 1.6659 - val_accuracy: 0.3886 - val_loss: 1.6044\n",
      "Epoch 3/10\n",
      "\u001b[1m718/718\u001b[0m \u001b[32m━━━━━━━━━━━━━━━━━━━━\u001b[0m\u001b[37m\u001b[0m \u001b[1m379s\u001b[0m 528ms/step - accuracy: 0.3666 - loss: 1.6395 - val_accuracy: 0.3860 - val_loss: 1.5902\n",
      "Epoch 4/10\n",
      "\u001b[1m718/718\u001b[0m \u001b[32m━━━━━━━━━━━━━━━━━━━━\u001b[0m\u001b[37m\u001b[0m \u001b[1m376s\u001b[0m 524ms/step - accuracy: 0.3757 - loss: 1.6194 - val_accuracy: 0.4053 - val_loss: 1.5485\n",
      "Epoch 5/10\n",
      "\u001b[1m718/718\u001b[0m \u001b[32m━━━━━━━━━━━━━━━━━━━━\u001b[0m\u001b[37m\u001b[0m \u001b[1m364s\u001b[0m 508ms/step - accuracy: 0.3762 - loss: 1.6235 - val_accuracy: 0.3957 - val_loss: 1.5622\n",
      "Epoch 6/10\n",
      "\u001b[1m718/718\u001b[0m \u001b[32m━━━━━━━━━━━━━━━━━━━━\u001b[0m\u001b[37m\u001b[0m \u001b[1m353s\u001b[0m 491ms/step - accuracy: 0.3770 - loss: 1.6259 - val_accuracy: 0.3731 - val_loss: 1.6203\n",
      "Epoch 7/10\n",
      "\u001b[1m718/718\u001b[0m \u001b[32m━━━━━━━━━━━━━━━━━━━━\u001b[0m\u001b[37m\u001b[0m \u001b[1m335s\u001b[0m 466ms/step - accuracy: 0.3724 - loss: 1.6224 - val_accuracy: 0.3701 - val_loss: 1.5977\n"
     ]
    },
    {
     "data": {
      "text/plain": [
       "<keras.src.callbacks.history.History at 0x2c27ae267b0>"
      ]
     },
     "execution_count": 11,
     "metadata": {},
     "output_type": "execute_result"
    }
   ],
   "source": [
    "model.fit(train_data, epochs=20, validation_data=val_data, callbacks=[early_stopping])"
   ]
  },
  {
   "cell_type": "code",
   "execution_count": 12,
   "id": "8d82bb3d",
   "metadata": {},
   "outputs": [
    {
     "name": "stderr",
     "output_type": "stream",
     "text": [
      "c:\\Users\\lenovo\\Desktop\\MoodMate\\virtual\\Lib\\site-packages\\keras\\src\\trainers\\data_adapters\\py_dataset_adapter.py:121: UserWarning: Your `PyDataset` class should call `super().__init__(**kwargs)` in its constructor. `**kwargs` can include `workers`, `use_multiprocessing`, `max_queue_size`. Do not pass these arguments to `fit()`, as they will be ignored.\n",
      "  self._warn_if_super_not_called()\n"
     ]
    },
    {
     "name": "stdout",
     "output_type": "stream",
     "text": [
      "\u001b[1m225/225\u001b[0m \u001b[32m━━━━━━━━━━━━━━━━━━━━\u001b[0m\u001b[37m\u001b[0m \u001b[1m119s\u001b[0m 528ms/step\n"
     ]
    }
   ],
   "source": [
    "pred=model.predict(test_data)\n"
   ]
  },
  {
   "cell_type": "code",
   "execution_count": 13,
   "id": "6c3e0ff3",
   "metadata": {},
   "outputs": [
    {
     "data": {
      "text/plain": [
       "array([[0.1362201 , 0.07076359, 0.18178542, 0.03733328, 0.30923164,\n",
       "        0.2617791 , 0.00288692],\n",
       "       [0.13849097, 0.09818608, 0.18586409, 0.08199058, 0.20228109,\n",
       "        0.09581994, 0.1973673 ],\n",
       "       [0.07334692, 0.01607818, 0.12689228, 0.06181782, 0.04829519,\n",
       "        0.6642212 , 0.00934839],\n",
       "       [0.13880914, 0.01830273, 0.04679225, 0.07473701, 0.3077107 ,\n",
       "        0.41221854, 0.00142959],\n",
       "       [0.18080114, 0.11732887, 0.18395515, 0.12454074, 0.07580618,\n",
       "        0.21215327, 0.1054147 ],\n",
       "       [0.04899333, 0.01983671, 0.648899  , 0.03797035, 0.07231734,\n",
       "        0.13637896, 0.03560442],\n",
       "       [0.11155283, 0.01037194, 0.13089485, 0.2714453 , 0.27043784,\n",
       "        0.19757128, 0.00772593],\n",
       "       [0.15516356, 0.00448828, 0.22180088, 0.04584095, 0.21519674,\n",
       "        0.11185117, 0.24565841],\n",
       "       [0.01883955, 0.0010412 , 0.04420652, 0.18309115, 0.60110605,\n",
       "        0.12574762, 0.02596793],\n",
       "       [0.3363691 , 0.04930247, 0.12113568, 0.24793161, 0.09071908,\n",
       "        0.10711478, 0.0474273 ]], dtype=float32)"
      ]
     },
     "execution_count": 13,
     "metadata": {},
     "output_type": "execute_result"
    }
   ],
   "source": [
    "pred[:10]"
   ]
  },
  {
   "cell_type": "code",
   "execution_count": 14,
   "id": "c27d8cb5",
   "metadata": {},
   "outputs": [
    {
     "name": "stdout",
     "output_type": "stream",
     "text": [
      "   actual  predicted\n",
      "0       0          4\n",
      "1       0          4\n",
      "2       0          5\n",
      "3       0          5\n",
      "4       0          5\n",
      "5       0          2\n",
      "6       0          3\n",
      "7       0          6\n",
      "8       0          4\n",
      "9       0          0\n"
     ]
    }
   ],
   "source": [
    "import pandas as pd\n",
    "print(pd.DataFrame({ 'actual': test_data.labels, 'predicted': np.argmax(pred, axis=1)}).head(10))"
   ]
  },
  {
   "cell_type": "code",
   "execution_count": 15,
   "id": "efbef4fe",
   "metadata": {},
   "outputs": [
    {
     "name": "stdout",
     "output_type": "stream",
     "text": [
      "0.41613262747283364\n"
     ]
    }
   ],
   "source": [
    "print(accuracy_score(test_data.labels, np.argmax(pred, axis=1)))"
   ]
  },
  {
   "cell_type": "markdown",
   "id": "17307b53",
   "metadata": {},
   "source": [
    "with training layers( without freezing)"
   ]
  },
  {
   "cell_type": "code",
   "execution_count": 16,
   "id": "8280c9ed",
   "metadata": {},
   "outputs": [],
   "source": [
    "for layer in base.layers[-20:]:\n",
    "    layer.trainable = True\n",
    "\n",
    "model.compile(\n",
    "    optimizer=Adam(learning_rate=1e-5),\n",
    "    loss='categorical_crossentropy',\n",
    "    metrics=['accuracy']\n",
    ")"
   ]
  },
  {
   "cell_type": "code",
   "execution_count": 18,
   "id": "0c454050",
   "metadata": {},
   "outputs": [
    {
     "name": "stdout",
     "output_type": "stream",
     "text": [
      "Epoch 1/10\n",
      "\u001b[1m718/718\u001b[0m \u001b[32m━━━━━━━━━━━━━━━━━━━━\u001b[0m\u001b[37m\u001b[0m \u001b[1m395s\u001b[0m 543ms/step - accuracy: 0.3400 - loss: 1.7338 - val_accuracy: 0.4043 - val_loss: 1.5766\n",
      "Epoch 2/10\n",
      "\u001b[1m718/718\u001b[0m \u001b[32m━━━━━━━━━━━━━━━━━━━━\u001b[0m\u001b[37m\u001b[0m \u001b[1m375s\u001b[0m 523ms/step - accuracy: 0.3954 - loss: 1.5782 - val_accuracy: 0.4276 - val_loss: 1.5242\n",
      "Epoch 3/10\n",
      "\u001b[1m718/718\u001b[0m \u001b[32m━━━━━━━━━━━━━━━━━━━━\u001b[0m\u001b[37m\u001b[0m \u001b[1m407s\u001b[0m 567ms/step - accuracy: 0.4143 - loss: 1.5234 - val_accuracy: 0.4379 - val_loss: 1.4858\n",
      "Epoch 4/10\n",
      "\u001b[1m718/718\u001b[0m \u001b[32m━━━━━━━━━━━━━━━━━━━━\u001b[0m\u001b[37m\u001b[0m \u001b[1m375s\u001b[0m 523ms/step - accuracy: 0.4395 - loss: 1.4673 - val_accuracy: 0.4475 - val_loss: 1.4434\n",
      "Epoch 5/10\n",
      "\u001b[1m718/718\u001b[0m \u001b[32m━━━━━━━━━━━━━━━━━━━━\u001b[0m\u001b[37m\u001b[0m \u001b[1m349s\u001b[0m 486ms/step - accuracy: 0.4495 - loss: 1.4395 - val_accuracy: 0.4590 - val_loss: 1.4269\n",
      "Epoch 6/10\n",
      "\u001b[1m718/718\u001b[0m \u001b[32m━━━━━━━━━━━━━━━━━━━━\u001b[0m\u001b[37m\u001b[0m \u001b[1m343s\u001b[0m 478ms/step - accuracy: 0.4602 - loss: 1.4085 - val_accuracy: 0.4715 - val_loss: 1.3930\n",
      "Epoch 7/10\n",
      "\u001b[1m718/718\u001b[0m \u001b[32m━━━━━━━━━━━━━━━━━━━━\u001b[0m\u001b[37m\u001b[0m \u001b[1m547s\u001b[0m 763ms/step - accuracy: 0.4675 - loss: 1.3933 - val_accuracy: 0.4720 - val_loss: 1.3757\n",
      "Epoch 8/10\n",
      "\u001b[1m718/718\u001b[0m \u001b[32m━━━━━━━━━━━━━━━━━━━━\u001b[0m\u001b[37m\u001b[0m \u001b[1m440s\u001b[0m 613ms/step - accuracy: 0.4787 - loss: 1.3710 - val_accuracy: 0.4808 - val_loss: 1.3557\n",
      "Epoch 9/10\n",
      "\u001b[1m718/718\u001b[0m \u001b[32m━━━━━━━━━━━━━━━━━━━━\u001b[0m\u001b[37m\u001b[0m \u001b[1m388s\u001b[0m 541ms/step - accuracy: 0.4867 - loss: 1.3484 - val_accuracy: 0.4889 - val_loss: 1.3322\n",
      "Epoch 10/10\n",
      "\u001b[1m718/718\u001b[0m \u001b[32m━━━━━━━━━━━━━━━━━━━━\u001b[0m\u001b[37m\u001b[0m \u001b[1m410s\u001b[0m 571ms/step - accuracy: 0.4931 - loss: 1.3294 - val_accuracy: 0.4856 - val_loss: 1.3509\n"
     ]
    },
    {
     "data": {
      "text/plain": [
       "<keras.src.callbacks.history.History at 0x2c27ae8ca50>"
      ]
     },
     "execution_count": 18,
     "metadata": {},
     "output_type": "execute_result"
    }
   ],
   "source": [
    "model.fit(train_data, epochs=10, validation_data=val_data, callbacks=[early_stopping])"
   ]
  },
  {
   "cell_type": "code",
   "execution_count": 19,
   "id": "d929a857",
   "metadata": {},
   "outputs": [
    {
     "name": "stdout",
     "output_type": "stream",
     "text": [
      "\u001b[1m225/225\u001b[0m \u001b[32m━━━━━━━━━━━━━━━━━━━━\u001b[0m\u001b[37m\u001b[0m \u001b[1m153s\u001b[0m 677ms/step\n"
     ]
    }
   ],
   "source": [
    "pred=model.predict(test_data)"
   ]
  },
  {
   "cell_type": "code",
   "execution_count": 20,
   "id": "1e10f482",
   "metadata": {},
   "outputs": [
    {
     "name": "stdout",
     "output_type": "stream",
     "text": [
      "0.49986068542769574\n"
     ]
    }
   ],
   "source": [
    "print(accuracy_score(test_data.labels, np.argmax(pred, axis=1)))"
   ]
  },
  {
   "cell_type": "markdown",
   "id": "f1f87252",
   "metadata": {},
   "source": [
    "using LR Scheduler"
   ]
  },
  {
   "cell_type": "markdown",
   "id": "1e6d8254",
   "metadata": {},
   "source": [
    "MobileNetV2 has a total of 155 layers"
   ]
  },
  {
   "cell_type": "code",
   "execution_count": 22,
   "id": "815f953c",
   "metadata": {},
   "outputs": [],
   "source": [
    "base = MobileNetV2(weights='imagenet', include_top=False, input_shape=(224,224,3))\n",
    "\n",
    "\n",
    "for layer in base.layers[-50:]:\n",
    "    layer.trainable = True\n",
    "\n",
    "model2 = Sequential([\n",
    "    base,\n",
    "    GlobalAveragePooling2D(),\n",
    "    Dense(128, activation='relu'),  \n",
    "    Dropout(0.4),\n",
    "    Dense(7, activation='softmax')\n",
    "])"
   ]
  },
  {
   "cell_type": "markdown",
   "id": "ec589ca1",
   "metadata": {},
   "source": [
    "ReduceLROnPlateau is a Keras callback that helps your model adapt the learning rate automatically during training to improve convergence and prevent getting stuck in local minima."
   ]
  },
  {
   "cell_type": "code",
   "execution_count": 26,
   "id": "063b65a9",
   "metadata": {},
   "outputs": [],
   "source": [
    "from keras.callbacks import ReduceLROnPlateau\n",
    "early_stopping = EarlyStopping(monitor='val_loss', patience=3, restore_best_weights=True)\n",
    "reduce_lr = ReduceLROnPlateau(monitor='val_loss', factor=0.2, patience=2, min_lr=1e-6)\n",
    "\n",
    "model2.compile(\n",
    "    optimizer=Adam(learning_rate=0.001),\n",
    "    loss=tf.keras.losses.CategoricalCrossentropy(label_smoothing=0.1),\n",
    "    metrics=['accuracy']\n",
    ")"
   ]
  },
  {
   "cell_type": "code",
   "execution_count": 27,
   "id": "b25c88cf",
   "metadata": {},
   "outputs": [
    {
     "name": "stdout",
     "output_type": "stream",
     "text": [
      "Epoch 1/20\n",
      "\u001b[1m718/718\u001b[0m \u001b[32m━━━━━━━━━━━━━━━━━━━━\u001b[0m\u001b[37m\u001b[0m \u001b[1m1107s\u001b[0m 2s/step - accuracy: 0.4230 - loss: 1.6040 - val_accuracy: 0.3137 - val_loss: 1.8833 - learning_rate: 0.0010\n",
      "Epoch 2/20\n",
      "\u001b[1m718/718\u001b[0m \u001b[32m━━━━━━━━━━━━━━━━━━━━\u001b[0m\u001b[37m\u001b[0m \u001b[1m1187s\u001b[0m 2s/step - accuracy: 0.5125 - loss: 1.4423 - val_accuracy: 0.3306 - val_loss: 2.0515 - learning_rate: 0.0010\n",
      "Epoch 3/20\n",
      "\u001b[1m718/718\u001b[0m \u001b[32m━━━━━━━━━━━━━━━━━━━━\u001b[0m\u001b[37m\u001b[0m \u001b[1m1146s\u001b[0m 2s/step - accuracy: 0.5399 - loss: 1.3988 - val_accuracy: 0.1930 - val_loss: 2.8282 - learning_rate: 0.0010\n",
      "Epoch 4/20\n",
      "\u001b[1m718/718\u001b[0m \u001b[32m━━━━━━━━━━━━━━━━━━━━\u001b[0m\u001b[37m\u001b[0m \u001b[1m1186s\u001b[0m 2s/step - accuracy: 0.5996 - loss: 1.2778 - val_accuracy: 0.5257 - val_loss: 1.4678 - learning_rate: 2.0000e-04\n",
      "Epoch 5/20\n",
      "\u001b[1m718/718\u001b[0m \u001b[32m━━━━━━━━━━━━━━━━━━━━\u001b[0m\u001b[37m\u001b[0m \u001b[1m1349s\u001b[0m 2s/step - accuracy: 0.6201 - loss: 1.2402 - val_accuracy: 0.5875 - val_loss: 1.2802 - learning_rate: 2.0000e-04\n",
      "Epoch 6/20\n",
      "\u001b[1m718/718\u001b[0m \u001b[32m━━━━━━━━━━━━━━━━━━━━\u001b[0m\u001b[37m\u001b[0m \u001b[1m1124s\u001b[0m 2s/step - accuracy: 0.6311 - loss: 1.2187 - val_accuracy: 0.6166 - val_loss: 1.2341 - learning_rate: 2.0000e-04\n",
      "Epoch 7/20\n",
      "\u001b[1m718/718\u001b[0m \u001b[32m━━━━━━━━━━━━━━━━━━━━\u001b[0m\u001b[37m\u001b[0m \u001b[1m1149s\u001b[0m 2s/step - accuracy: 0.6371 - loss: 1.2029 - val_accuracy: 0.6184 - val_loss: 1.2204 - learning_rate: 2.0000e-04\n",
      "Epoch 8/20\n",
      "\u001b[1m718/718\u001b[0m \u001b[32m━━━━━━━━━━━━━━━━━━━━\u001b[0m\u001b[37m\u001b[0m \u001b[1m1154s\u001b[0m 2s/step - accuracy: 0.6546 - loss: 1.1785 - val_accuracy: 0.6234 - val_loss: 1.2281 - learning_rate: 2.0000e-04\n",
      "Epoch 9/20\n",
      "\u001b[1m718/718\u001b[0m \u001b[32m━━━━━━━━━━━━━━━━━━━━\u001b[0m\u001b[37m\u001b[0m \u001b[1m1126s\u001b[0m 2s/step - accuracy: 0.6571 - loss: 1.1672 - val_accuracy: 0.6103 - val_loss: 1.2353 - learning_rate: 2.0000e-04\n",
      "Epoch 10/20\n",
      "\u001b[1m718/718\u001b[0m \u001b[32m━━━━━━━━━━━━━━━━━━━━\u001b[0m\u001b[37m\u001b[0m \u001b[1m1437s\u001b[0m 2s/step - accuracy: 0.6808 - loss: 1.1226 - val_accuracy: 0.6356 - val_loss: 1.1762 - learning_rate: 4.0000e-05\n",
      "Epoch 11/20\n",
      "\u001b[1m718/718\u001b[0m \u001b[32m━━━━━━━━━━━━━━━━━━━━\u001b[0m\u001b[37m\u001b[0m \u001b[1m1196s\u001b[0m 2s/step - accuracy: 0.6887 - loss: 1.1084 - val_accuracy: 0.6499 - val_loss: 1.1637 - learning_rate: 4.0000e-05\n",
      "Epoch 12/20\n",
      "\u001b[1m718/718\u001b[0m \u001b[32m━━━━━━━━━━━━━━━━━━━━\u001b[0m\u001b[37m\u001b[0m \u001b[1m1243s\u001b[0m 2s/step - accuracy: 0.6941 - loss: 1.0970 - val_accuracy: 0.6412 - val_loss: 1.1755 - learning_rate: 4.0000e-05\n",
      "Epoch 13/20\n",
      "\u001b[1m718/718\u001b[0m \u001b[32m━━━━━━━━━━━━━━━━━━━━\u001b[0m\u001b[37m\u001b[0m \u001b[1m1218s\u001b[0m 2s/step - accuracy: 0.6975 - loss: 1.0897 - val_accuracy: 0.6553 - val_loss: 1.1599 - learning_rate: 4.0000e-05\n",
      "Epoch 14/20\n",
      "\u001b[1m718/718\u001b[0m \u001b[32m━━━━━━━━━━━━━━━━━━━━\u001b[0m\u001b[37m\u001b[0m \u001b[1m1216s\u001b[0m 2s/step - accuracy: 0.7016 - loss: 1.0850 - val_accuracy: 0.6483 - val_loss: 1.1620 - learning_rate: 4.0000e-05\n",
      "Epoch 15/20\n",
      "\u001b[1m718/718\u001b[0m \u001b[32m━━━━━━━━━━━━━━━━━━━━\u001b[0m\u001b[37m\u001b[0m \u001b[1m1226s\u001b[0m 2s/step - accuracy: 0.7045 - loss: 1.0751 - val_accuracy: 0.6528 - val_loss: 1.1603 - learning_rate: 4.0000e-05\n",
      "Epoch 16/20\n",
      "\u001b[1m718/718\u001b[0m \u001b[32m━━━━━━━━━━━━━━━━━━━━\u001b[0m\u001b[37m\u001b[0m \u001b[1m1261s\u001b[0m 2s/step - accuracy: 0.7099 - loss: 1.0643 - val_accuracy: 0.6558 - val_loss: 1.1574 - learning_rate: 8.0000e-06\n",
      "Epoch 17/20\n",
      "\u001b[1m718/718\u001b[0m \u001b[32m━━━━━━━━━━━━━━━━━━━━\u001b[0m\u001b[37m\u001b[0m \u001b[1m1243s\u001b[0m 2s/step - accuracy: 0.7132 - loss: 1.0622 - val_accuracy: 0.6558 - val_loss: 1.1606 - learning_rate: 8.0000e-06\n",
      "Epoch 18/20\n",
      "\u001b[1m718/718\u001b[0m \u001b[32m━━━━━━━━━━━━━━━━━━━━\u001b[0m\u001b[37m\u001b[0m \u001b[1m7065s\u001b[0m 10s/step - accuracy: 0.7143 - loss: 1.0593 - val_accuracy: 0.6492 - val_loss: 1.1565 - learning_rate: 8.0000e-06\n",
      "Epoch 19/20\n",
      "\u001b[1m718/718\u001b[0m \u001b[32m━━━━━━━━━━━━━━━━━━━━\u001b[0m\u001b[37m\u001b[0m \u001b[1m1230s\u001b[0m 2s/step - accuracy: 0.7156 - loss: 1.0543 - val_accuracy: 0.6581 - val_loss: 1.1559 - learning_rate: 8.0000e-06\n",
      "Epoch 20/20\n",
      "\u001b[1m718/718\u001b[0m \u001b[32m━━━━━━━━━━━━━━━━━━━━\u001b[0m\u001b[37m\u001b[0m \u001b[1m1219s\u001b[0m 2s/step - accuracy: 0.7198 - loss: 1.0490 - val_accuracy: 0.6565 - val_loss: 1.1541 - learning_rate: 8.0000e-06\n"
     ]
    },
    {
     "data": {
      "text/plain": [
       "<keras.src.callbacks.history.History at 0x2c2b30de650>"
      ]
     },
     "execution_count": 27,
     "metadata": {},
     "output_type": "execute_result"
    }
   ],
   "source": [
    "\n",
    "model2.fit(\n",
    "    train_data,\n",
    "    epochs=20,\n",
    "    validation_data=val_data,\n",
    "    callbacks=[early_stopping, reduce_lr]\n",
    ")"
   ]
  },
  {
   "cell_type": "code",
   "execution_count": 28,
   "id": "3bbf2df2",
   "metadata": {},
   "outputs": [
    {
     "name": "stdout",
     "output_type": "stream",
     "text": [
      "\u001b[1m225/225\u001b[0m \u001b[32m━━━━━━━━━━━━━━━━━━━━\u001b[0m\u001b[37m\u001b[0m \u001b[1m151s\u001b[0m 667ms/step\n"
     ]
    }
   ],
   "source": [
    "pred2=model2.predict(test_data)"
   ]
  },
  {
   "cell_type": "code",
   "execution_count": 34,
   "id": "cd81710a",
   "metadata": {},
   "outputs": [
    {
     "name": "stdout",
     "output_type": "stream",
     "text": [
      "with training layers\n",
      "0.6705210365004179\n"
     ]
    }
   ],
   "source": [
    "print(\"with training layers\")\n",
    "print(accuracy_score(test_data.labels, np.argmax(pred2, axis=1)))"
   ]
  },
  {
   "cell_type": "code",
   "execution_count": 30,
   "id": "53933795",
   "metadata": {},
   "outputs": [
    {
     "name": "stderr",
     "output_type": "stream",
     "text": [
      "WARNING:absl:You are saving your model as an HDF5 file via `model.save()` or `keras.saving.save_model(model)`. This file format is considered legacy. We recommend using instead the native Keras format, e.g. `model.save('my_model.keras')` or `keras.saving.save_model(model, 'my_model.keras')`. \n"
     ]
    }
   ],
   "source": [
    "model2.save(\"my_model.h5\")"
   ]
  },
  {
   "cell_type": "code",
   "execution_count": 31,
   "id": "f9945707",
   "metadata": {},
   "outputs": [],
   "source": [
    "import tensorflow as tf \n",
    "model2.save('mobilenetmodel.keras')\n"
   ]
  },
  {
   "cell_type": "markdown",
   "id": "1de3af85",
   "metadata": {},
   "source": [
    "loading the model"
   ]
  },
  {
   "cell_type": "code",
   "execution_count": 28,
   "id": "3f4f0ff4",
   "metadata": {},
   "outputs": [
    {
     "name": "stderr",
     "output_type": "stream",
     "text": [
      "c:\\Users\\lenovo\\Desktop\\MoodMate\\virtual\\Lib\\site-packages\\keras\\src\\saving\\saving_lib.py:797: UserWarning: Skipping variable loading for optimizer 'rmsprop', because it has 162 variables whereas the saved optimizer has 322 variables. \n",
      "  saveable.load_own_variables(weights_store.get(inner_path))\n"
     ]
    }
   ],
   "source": [
    "import keras \n",
    "mobilenet = keras.models.load_model(\"C:\\\\Users\\\\lenovo\\\\Desktop\\\\MoodMate\\\\mobilenetmodel.keras\")"
   ]
  },
  {
   "cell_type": "code",
   "execution_count": 29,
   "id": "de00ef67",
   "metadata": {},
   "outputs": [
    {
     "data": {
      "image/png": "[encoded data removed]",
      "text/plain": [
       "<Figure size 300x200 with 1 Axes>"
      ]
     },
     "metadata": {},
     "output_type": "display_data"
    }
   ],
   "source": [
    "import matplotlib.pyplot as plt\n",
    "from PIL import Image \n",
    "plt.figure(figsize=(3,2))\n",
    "path=\"C:\\\\Users\\\\lenovo\\\\Desktop\\\\MoodMate\\\\test\\\\sad\\\\PrivateTest_366361.jpg\"\n",
    "plt.imshow(Image.open(path),cmap='gray')\n",
    "plt.title('sad')\n",
    "plt.show()"
   ]
  },
  {
   "cell_type": "code",
   "execution_count": 30,
   "id": "93631f0b",
   "metadata": {},
   "outputs": [],
   "source": [
    "import numpy as np\n",
    "img=Image.open(path).resize((224,224))\n",
    "img=img.convert('RGB')\n",
    "img=np.array(img)\n"
   ]
  },
  {
   "cell_type": "code",
   "execution_count": 31,
   "id": "55169a90",
   "metadata": {},
   "outputs": [
    {
     "data": {
      "text/plain": [
       "(224, 224, 3)"
      ]
     },
     "execution_count": 31,
     "metadata": {},
     "output_type": "execute_result"
    }
   ],
   "source": [
    "img.shape"
   ]
  },
  {
   "cell_type": "code",
   "execution_count": 32,
   "id": "17c640be",
   "metadata": {},
   "outputs": [],
   "source": [
    "img=img.reshape(1,224,224,3)"
   ]
  },
  {
   "cell_type": "code",
   "execution_count": 33,
   "id": "d6c1f221",
   "metadata": {},
   "outputs": [
    {
     "name": "stdout",
     "output_type": "stream",
     "text": [
      "\u001b[1m1/1\u001b[0m \u001b[32m━━━━━━━━━━━━━━━━━━━━\u001b[0m\u001b[37m\u001b[0m \u001b[1m1s\u001b[0m 741ms/step\n"
     ]
    }
   ],
   "source": [
    "predict=mobilenet.predict(img)"
   ]
  },
  {
   "cell_type": "code",
   "execution_count": 34,
   "id": "ff3866b2",
   "metadata": {},
   "outputs": [
    {
     "name": "stdout",
     "output_type": "stream",
     "text": [
      "[[0.14403072 0.05813936 0.169947   0.13176957 0.18891205 0.11450417\n",
      "  0.19269717]]\n"
     ]
    }
   ],
   "source": [
    "print(predict)"
   ]
  },
  {
   "cell_type": "code",
   "execution_count": null,
   "id": "923da31a",
   "metadata": {},
   "outputs": [],
   "source": [
    "#1.angry(0) 2.disgust(1)  3.fear(2) 4.happy(3)  5.neutral(4) 6.sad(5)  7.surprise(6) "
   ]
  },
  {
   "cell_type": "code",
   "execution_count": 35,
   "id": "f191c483",
   "metadata": {},
   "outputs": [
    {
     "name": "stdout",
     "output_type": "stream",
     "text": [
      "6\n"
     ]
    }
   ],
   "source": [
    "print(np.argmax(predict))"
   ]
  },
  {
   "cell_type": "code",
   "execution_count": 40,
   "id": "c27b96b0",
   "metadata": {},
   "outputs": [
    {
     "data": {
      "image/png": "[encoded data removed]",
      "text/plain": [
       "<Figure size 200x100 with 1 Axes>"
      ]
     },
     "metadata": {},
     "output_type": "display_data"
    }
   ],
   "source": [
    "path2=\"C:\\\\Users\\\\lenovo\\\\Desktop\\\\MoodMate\\\\test\\\\fear\\\\PrivateTest_518212.jpg\"\n",
    "plt.figure(figsize=(2,1))\n",
    "plt.imshow(Image.open(path2),cmap='gray')\n",
    "plt.title('fear')\n",
    "plt.show()"
   ]
  },
  {
   "cell_type": "code",
   "execution_count": 42,
   "id": "3f7c0afb",
   "metadata": {},
   "outputs": [],
   "source": [
    "img2=Image.open(path2).resize((224,224))\n",
    "img2=img2.convert('RGB')\n",
    "img2=np.array(img2)"
   ]
  },
  {
   "cell_type": "code",
   "execution_count": 43,
   "id": "8154fd48",
   "metadata": {},
   "outputs": [],
   "source": [
    "img2=img2.reshape(1,224,224,3)"
   ]
  },
  {
   "cell_type": "code",
   "execution_count": 44,
   "id": "47405273",
   "metadata": {},
   "outputs": [
    {
     "name": "stdout",
     "output_type": "stream",
     "text": [
      "\u001b[1m1/1\u001b[0m \u001b[32m━━━━━━━━━━━━━━━━━━━━\u001b[0m\u001b[37m\u001b[0m \u001b[1m0s\u001b[0m 85ms/step\n"
     ]
    }
   ],
   "source": [
    "predict2=mobilenet.predict(img2)"
   ]
  },
  {
   "cell_type": "code",
   "execution_count": 46,
   "id": "1129e765",
   "metadata": {},
   "outputs": [
    {
     "data": {
      "text/plain": [
       "array([[0.16283701, 0.05844242, 0.18414363, 0.12232582, 0.18976618,\n",
       "        0.12233556, 0.16014938]], dtype=float32)"
      ]
     },
     "execution_count": 46,
     "metadata": {},
     "output_type": "execute_result"
    }
   ],
   "source": [
    "predict2"
   ]
  },
  {
   "cell_type": "markdown",
   "id": "96344a6d",
   "metadata": {},
   "source": [
    "fear(2) and netural(4) got nearly .18"
   ]
  },
  {
   "cell_type": "code",
   "execution_count": 45,
   "id": "44dd3fdd",
   "metadata": {},
   "outputs": [
    {
     "name": "stdout",
     "output_type": "stream",
     "text": [
      "4\n"
     ]
    }
   ],
   "source": [
    "print(np.argmax(predict2))"
   ]
  },
  {
   "cell_type": "code",
   "execution_count": null,
   "id": "d4f1001c",
   "metadata": {},
   "outputs": [],
   "source": []
  }
 ],
 "metadata": {
  "kernelspec": {
   "display_name": "virtual",
   "language": "python",
   "name": "python3"
  },
  "language_info": {
   "codemirror_mode": {
    "name": "ipython",
    "version": 3
   },
   "file_extension": ".py",
   "mimetype": "text/x-python",
   "name": "python",
   "nbconvert_exporter": "python",
   "pygments_lexer": "ipython3",
   "version": "3.9.13"
  }
 },
 "nbformat": 4,
 "nbformat_minor": 5
}
