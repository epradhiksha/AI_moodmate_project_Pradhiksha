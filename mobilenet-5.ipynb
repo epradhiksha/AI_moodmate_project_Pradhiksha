{
 "cells": [
  {
   "cell_type": "code",
   "execution_count": 1,
   "id": "c67b65fa",
   "metadata": {
    "execution": {
     "iopub.execute_input": "2025-10-07T13:45:07.435284Z",
     "iopub.status.busy": "2025-10-07T13:45:07.435002Z",
     "iopub.status.idle": "2025-10-07T13:45:23.343334Z",
     "shell.execute_reply": "2025-10-07T13:45:23.342674Z"
    },
    "papermill": {
     "duration": 15.913671,
     "end_time": "2025-10-07T13:45:23.344694",
     "exception": false,
     "start_time": "2025-10-07T13:45:07.431023",
     "status": "completed"
    },
    "tags": []
   },
   "outputs": [
    {
     "name": "stderr",
     "output_type": "stream",
     "text": [
      "2025-10-07 13:45:09.155152: E external/local_xla/xla/stream_executor/cuda/cuda_fft.cc:477] Unable to register cuFFT factory: Attempting to register factory for plugin cuFFT when one has already been registered\n",
      "WARNING: All log messages before absl::InitializeLog() is called are written to STDERR\n",
      "E0000 00:00:1759844709.376382      19 cuda_dnn.cc:8310] Unable to register cuDNN factory: Attempting to register factory for plugin cuDNN when one has already been registered\n",
      "E0000 00:00:1759844709.430984      19 cuda_blas.cc:1418] Unable to register cuBLAS factory: Attempting to register factory for plugin cuBLAS when one has already been registered\n"
     ]
    }
   ],
   "source": [
    "\n",
    "import numpy as np\n",
    "from keras.models import Sequential\n",
    "from keras.layers import GlobalAveragePooling2D,Conv2D,MaxPooling2D, Flatten, Dense, Dropout, BatchNormalization\n",
    "from tensorflow.keras.preprocessing.image import ImageDataGenerator    \n",
    "from keras.applications import MobileNetV2\n",
    "from keras.optimizers import Adam\n",
    "from keras.callbacks import EarlyStopping\n",
    "from sklearn.metrics import accuracy_score"
   ]
  },
  {
   "cell_type": "code",
   "execution_count": 2,
   "id": "047a5bf3",
   "metadata": {
    "_cell_guid": "b1076dfc-b9ad-4769-8c92-a6c4dae69d19",
    "_uuid": "8f2839f25d086af736a60e9eeb907d3b93b6e0e5",
    "execution": {
     "iopub.execute_input": "2025-10-07T13:45:23.351070Z",
     "iopub.status.busy": "2025-10-07T13:45:23.350299Z",
     "iopub.status.idle": "2025-10-07T13:45:23.353718Z",
     "shell.execute_reply": "2025-10-07T13:45:23.353174Z"
    },
    "papermill": {
     "duration": 0.00747,
     "end_time": "2025-10-07T13:45:23.354897",
     "exception": false,
     "start_time": "2025-10-07T13:45:23.347427",
     "status": "completed"
    },
    "tags": []
   },
   "outputs": [],
   "source": [
    "train='/kaggle/input/fer2013/train'\n",
    "test='/kaggle/input/fer2013/test'"
   ]
  },
  {
   "cell_type": "code",
   "execution_count": 3,
   "id": "90afe13c",
   "metadata": {
    "execution": {
     "iopub.execute_input": "2025-10-07T13:45:23.360444Z",
     "iopub.status.busy": "2025-10-07T13:45:23.359978Z",
     "iopub.status.idle": "2025-10-07T13:45:23.363314Z",
     "shell.execute_reply": "2025-10-07T13:45:23.362748Z"
    },
    "papermill": {
     "duration": 0.007188,
     "end_time": "2025-10-07T13:45:23.364349",
     "exception": false,
     "start_time": "2025-10-07T13:45:23.357161",
     "status": "completed"
    },
    "tags": []
   },
   "outputs": [],
   "source": [
    "emotions=['angry', 'happy', 'sad', 'surprise', 'neutral']"
   ]
  },
  {
   "cell_type": "code",
   "execution_count": 4,
   "id": "7d816cd0",
   "metadata": {
    "execution": {
     "iopub.execute_input": "2025-10-07T13:45:23.369631Z",
     "iopub.status.busy": "2025-10-07T13:45:23.369195Z",
     "iopub.status.idle": "2025-10-07T13:45:51.458973Z",
     "shell.execute_reply": "2025-10-07T13:45:51.458323Z"
    },
    "papermill": {
     "duration": 28.093817,
     "end_time": "2025-10-07T13:45:51.460372",
     "exception": false,
     "start_time": "2025-10-07T13:45:23.366555",
     "status": "completed"
    },
    "tags": []
   },
   "outputs": [
    {
     "name": "stdout",
     "output_type": "stream",
     "text": [
      "Found 19341 images belonging to 5 classes.\n",
      "Found 4835 images belonging to 5 classes.\n",
      "Found 6043 images belonging to 5 classes.\n"
     ]
    }
   ],
   "source": [
    "import tensorflow as tf\n",
    "\n",
    "\n",
    "size=(128,128)\n",
    "\n",
    "\n",
    "train_gen = ImageDataGenerator(\n",
    "    preprocessing_function=tf.keras.applications.mobilenet_v2.preprocess_input,\n",
    "    validation_split=0.2,\n",
    "    rotation_range=20,\n",
    "    width_shift_range=0.2,\n",
    "    height_shift_range=0.2,\n",
    "    shear_range=0.2,\n",
    "    zoom_range=0.2,\n",
    "    horizontal_flip=True\n",
    ")\n",
    "\n",
    "\n",
    "train_data = train_gen.flow_from_directory(\n",
    "    train,\n",
    "    target_size=size,\n",
    "    batch_size=32,\n",
    "    class_mode='categorical',\n",
    "    subset='training',\n",
    "    shuffle=True,\n",
    "    classes=emotions\n",
    ")\n",
    "\n",
    "# Validation data (20%)\n",
    "val_data = train_gen.flow_from_directory(\n",
    "    train,\n",
    "    target_size=size,\n",
    "    batch_size=32,\n",
    "    class_mode='categorical',\n",
    "    subset='validation',\n",
    "    shuffle=False,\n",
    "    classes=emotions\n",
    ")\n",
    "\n",
    "# Test data (separate unseen dataset)\n",
    "test_gen = ImageDataGenerator(\n",
    "    preprocessing_function=tf.keras.applications.mobilenet_v2.preprocess_input\n",
    ")\n",
    "\n",
    "test_data = test_gen.flow_from_directory(\n",
    "    test,\n",
    "    target_size=size,\n",
    "    batch_size=32,\n",
    "    class_mode='categorical',\n",
    "    shuffle=False,\n",
    "    classes=emotions\n",
    ")\n"
   ]
  },
  {
   "cell_type": "code",
   "execution_count": null,
   "id": "e55610da",
   "metadata": {
    "papermill": {
     "duration": 0.002321,
     "end_time": "2025-10-07T13:45:51.465453",
     "exception": false,
     "start_time": "2025-10-07T13:45:51.463132",
     "status": "completed"
    },
    "tags": []
   },
   "outputs": [],
   "source": []
  },
  {
   "cell_type": "code",
   "execution_count": 5,
   "id": "98cad3a9",
   "metadata": {
    "execution": {
     "iopub.execute_input": "2025-10-07T13:45:51.471631Z",
     "iopub.status.busy": "2025-10-07T13:45:51.471033Z",
     "iopub.status.idle": "2025-10-07T13:45:55.936838Z",
     "shell.execute_reply": "2025-10-07T13:45:55.936201Z"
    },
    "papermill": {
     "duration": 4.470478,
     "end_time": "2025-10-07T13:45:55.938354",
     "exception": false,
     "start_time": "2025-10-07T13:45:51.467876",
     "status": "completed"
    },
    "tags": []
   },
   "outputs": [
    {
     "name": "stderr",
     "output_type": "stream",
     "text": [
      "I0000 00:00:1759844752.159518      19 gpu_device.cc:2022] Created device /job:localhost/replica:0/task:0/device:GPU:0 with 15513 MB memory:  -> device: 0, name: Tesla P100-PCIE-16GB, pci bus id: 0000:00:04.0, compute capability: 6.0\n"
     ]
    },
    {
     "name": "stdout",
     "output_type": "stream",
     "text": [
      "Downloading data from https://storage.googleapis.com/tensorflow/keras-applications/mobilenet_v2/mobilenet_v2_weights_tf_dim_ordering_tf_kernels_1.0_128_no_top.h5\n",
      "\u001b[1m9406464/9406464\u001b[0m \u001b[32m━━━━━━━━━━━━━━━━━━━━\u001b[0m\u001b[37m\u001b[0m \u001b[1m1s\u001b[0m 0us/step\n"
     ]
    }
   ],
   "source": [
    "base = MobileNetV2(weights='imagenet', include_top=False, input_shape=(128,128,3))\n",
    "\n",
    "\n",
    "base.trainable = True\n",
    "\n",
    "model = Sequential([\n",
    "    base,\n",
    "    \n",
    "    Conv2D(64, (3,3), activation='relu', padding='same'),\n",
    "    BatchNormalization(),\n",
    "    Conv2D(128, (3,3), activation='relu', padding='same'),\n",
    "    BatchNormalization(),\n",
    "    MaxPooling2D(pool_size=(2,2)),\n",
    "    GlobalAveragePooling2D(),\n",
    "    Dropout(0.3),\n",
    "    Dense(128, activation='relu'),  \n",
    "    Dense(5, activation='softmax')\n",
    "])"
   ]
  },
  {
   "cell_type": "code",
   "execution_count": 6,
   "id": "43bcc638",
   "metadata": {
    "execution": {
     "iopub.execute_input": "2025-10-07T13:45:55.946432Z",
     "iopub.status.busy": "2025-10-07T13:45:55.945982Z",
     "iopub.status.idle": "2025-10-07T13:45:55.958820Z",
     "shell.execute_reply": "2025-10-07T13:45:55.958286Z"
    },
    "papermill": {
     "duration": 0.017832,
     "end_time": "2025-10-07T13:45:55.959886",
     "exception": false,
     "start_time": "2025-10-07T13:45:55.942054",
     "status": "completed"
    },
    "tags": []
   },
   "outputs": [],
   "source": [
    "from keras.callbacks import ReduceLROnPlateau\n",
    "early_stopping = EarlyStopping(monitor='val_loss', patience=3, restore_best_weights=True)\n",
    "reduce_lr = ReduceLROnPlateau(monitor='val_loss', factor=0.2, patience=2, min_lr=1e-6)\n",
    "\n",
    "model.compile(\n",
    "    optimizer=Adam(learning_rate=0.001),\n",
    "    loss=tf.keras.losses.CategoricalCrossentropy(label_smoothing=0.1),\n",
    "    metrics=['accuracy']\n",
    ")"
   ]
  },
  {
   "cell_type": "code",
   "execution_count": 7,
   "id": "00acc185",
   "metadata": {
    "execution": {
     "iopub.execute_input": "2025-10-07T13:45:55.967716Z",
     "iopub.status.busy": "2025-10-07T13:45:55.967172Z",
     "iopub.status.idle": "2025-10-07T13:45:55.987081Z",
     "shell.execute_reply": "2025-10-07T13:45:55.986520Z"
    },
    "papermill": {
     "duration": 0.024823,
     "end_time": "2025-10-07T13:45:55.988076",
     "exception": false,
     "start_time": "2025-10-07T13:45:55.963253",
     "status": "completed"
    },
    "tags": []
   },
   "outputs": [
    {
     "data": {
      "text/html": [
       "<pre style=\"white-space:pre;overflow-x:auto;line-height:normal;font-family:Menlo,'DejaVu Sans Mono',consolas,'Courier New',monospace\"><span style=\"font-weight: bold\">Model: \"sequential\"</span>\n",
       "</pre>\n"
      ],
      "text/plain": [
       "\u001b[1mModel: \"sequential\"\u001b[0m\n"
      ]
     },
     "metadata": {},
     "output_type": "display_data"
    },
    {
     "data": {
      "text/html": [
       "<pre style=\"white-space:pre;overflow-x:auto;line-height:normal;font-family:Menlo,'DejaVu Sans Mono',consolas,'Courier New',monospace\">┏━━━━━━━━━━━━━━━━━━━━━━━━━━━━━━━━━┳━━━━━━━━━━━━━━━━━━━━━━━━┳━━━━━━━━━━━━━━━┓\n",
       "┃<span style=\"font-weight: bold\"> Layer (type)                    </span>┃<span style=\"font-weight: bold\"> Output Shape           </span>┃<span style=\"font-weight: bold\">       Param # </span>┃\n",
       "┡━━━━━━━━━━━━━━━━━━━━━━━━━━━━━━━━━╇━━━━━━━━━━━━━━━━━━━━━━━━╇━━━━━━━━━━━━━━━┩\n",
       "│ mobilenetv2_1.00_128            │ (<span style=\"color: #00d7ff; text-decoration-color: #00d7ff\">None</span>, <span style=\"color: #00af00; text-decoration-color: #00af00\">4</span>, <span style=\"color: #00af00; text-decoration-color: #00af00\">4</span>, <span style=\"color: #00af00; text-decoration-color: #00af00\">1280</span>)     │     <span style=\"color: #00af00; text-decoration-color: #00af00\">2,257,984</span> │\n",
       "│ (<span style=\"color: #0087ff; text-decoration-color: #0087ff\">Functional</span>)                    │                        │               │\n",
       "├─────────────────────────────────┼────────────────────────┼───────────────┤\n",
       "│ conv2d (<span style=\"color: #0087ff; text-decoration-color: #0087ff\">Conv2D</span>)                 │ (<span style=\"color: #00d7ff; text-decoration-color: #00d7ff\">None</span>, <span style=\"color: #00af00; text-decoration-color: #00af00\">4</span>, <span style=\"color: #00af00; text-decoration-color: #00af00\">4</span>, <span style=\"color: #00af00; text-decoration-color: #00af00\">64</span>)       │       <span style=\"color: #00af00; text-decoration-color: #00af00\">737,344</span> │\n",
       "├─────────────────────────────────┼────────────────────────┼───────────────┤\n",
       "│ batch_normalization             │ (<span style=\"color: #00d7ff; text-decoration-color: #00d7ff\">None</span>, <span style=\"color: #00af00; text-decoration-color: #00af00\">4</span>, <span style=\"color: #00af00; text-decoration-color: #00af00\">4</span>, <span style=\"color: #00af00; text-decoration-color: #00af00\">64</span>)       │           <span style=\"color: #00af00; text-decoration-color: #00af00\">256</span> │\n",
       "│ (<span style=\"color: #0087ff; text-decoration-color: #0087ff\">BatchNormalization</span>)            │                        │               │\n",
       "├─────────────────────────────────┼────────────────────────┼───────────────┤\n",
       "│ conv2d_1 (<span style=\"color: #0087ff; text-decoration-color: #0087ff\">Conv2D</span>)               │ (<span style=\"color: #00d7ff; text-decoration-color: #00d7ff\">None</span>, <span style=\"color: #00af00; text-decoration-color: #00af00\">4</span>, <span style=\"color: #00af00; text-decoration-color: #00af00\">4</span>, <span style=\"color: #00af00; text-decoration-color: #00af00\">128</span>)      │        <span style=\"color: #00af00; text-decoration-color: #00af00\">73,856</span> │\n",
       "├─────────────────────────────────┼────────────────────────┼───────────────┤\n",
       "│ batch_normalization_1           │ (<span style=\"color: #00d7ff; text-decoration-color: #00d7ff\">None</span>, <span style=\"color: #00af00; text-decoration-color: #00af00\">4</span>, <span style=\"color: #00af00; text-decoration-color: #00af00\">4</span>, <span style=\"color: #00af00; text-decoration-color: #00af00\">128</span>)      │           <span style=\"color: #00af00; text-decoration-color: #00af00\">512</span> │\n",
       "│ (<span style=\"color: #0087ff; text-decoration-color: #0087ff\">BatchNormalization</span>)            │                        │               │\n",
       "├─────────────────────────────────┼────────────────────────┼───────────────┤\n",
       "│ max_pooling2d (<span style=\"color: #0087ff; text-decoration-color: #0087ff\">MaxPooling2D</span>)    │ (<span style=\"color: #00d7ff; text-decoration-color: #00d7ff\">None</span>, <span style=\"color: #00af00; text-decoration-color: #00af00\">2</span>, <span style=\"color: #00af00; text-decoration-color: #00af00\">2</span>, <span style=\"color: #00af00; text-decoration-color: #00af00\">128</span>)      │             <span style=\"color: #00af00; text-decoration-color: #00af00\">0</span> │\n",
       "├─────────────────────────────────┼────────────────────────┼───────────────┤\n",
       "│ global_average_pooling2d        │ (<span style=\"color: #00d7ff; text-decoration-color: #00d7ff\">None</span>, <span style=\"color: #00af00; text-decoration-color: #00af00\">128</span>)            │             <span style=\"color: #00af00; text-decoration-color: #00af00\">0</span> │\n",
       "│ (<span style=\"color: #0087ff; text-decoration-color: #0087ff\">GlobalAveragePooling2D</span>)        │                        │               │\n",
       "├─────────────────────────────────┼────────────────────────┼───────────────┤\n",
       "│ dropout (<span style=\"color: #0087ff; text-decoration-color: #0087ff\">Dropout</span>)               │ (<span style=\"color: #00d7ff; text-decoration-color: #00d7ff\">None</span>, <span style=\"color: #00af00; text-decoration-color: #00af00\">128</span>)            │             <span style=\"color: #00af00; text-decoration-color: #00af00\">0</span> │\n",
       "├─────────────────────────────────┼────────────────────────┼───────────────┤\n",
       "│ dense (<span style=\"color: #0087ff; text-decoration-color: #0087ff\">Dense</span>)                   │ (<span style=\"color: #00d7ff; text-decoration-color: #00d7ff\">None</span>, <span style=\"color: #00af00; text-decoration-color: #00af00\">128</span>)            │        <span style=\"color: #00af00; text-decoration-color: #00af00\">16,512</span> │\n",
       "├─────────────────────────────────┼────────────────────────┼───────────────┤\n",
       "│ dense_1 (<span style=\"color: #0087ff; text-decoration-color: #0087ff\">Dense</span>)                 │ (<span style=\"color: #00d7ff; text-decoration-color: #00d7ff\">None</span>, <span style=\"color: #00af00; text-decoration-color: #00af00\">5</span>)              │           <span style=\"color: #00af00; text-decoration-color: #00af00\">645</span> │\n",
       "└─────────────────────────────────┴────────────────────────┴───────────────┘\n",
       "</pre>\n"
      ],
      "text/plain": [
       "┏━━━━━━━━━━━━━━━━━━━━━━━━━━━━━━━━━┳━━━━━━━━━━━━━━━━━━━━━━━━┳━━━━━━━━━━━━━━━┓\n",
       "┃\u001b[1m \u001b[0m\u001b[1mLayer (type)                   \u001b[0m\u001b[1m \u001b[0m┃\u001b[1m \u001b[0m\u001b[1mOutput Shape          \u001b[0m\u001b[1m \u001b[0m┃\u001b[1m \u001b[0m\u001b[1m      Param #\u001b[0m\u001b[1m \u001b[0m┃\n",
       "┡━━━━━━━━━━━━━━━━━━━━━━━━━━━━━━━━━╇━━━━━━━━━━━━━━━━━━━━━━━━╇━━━━━━━━━━━━━━━┩\n",
       "│ mobilenetv2_1.00_128            │ (\u001b[38;5;45mNone\u001b[0m, \u001b[38;5;34m4\u001b[0m, \u001b[38;5;34m4\u001b[0m, \u001b[38;5;34m1280\u001b[0m)     │     \u001b[38;5;34m2,257,984\u001b[0m │\n",
       "│ (\u001b[38;5;33mFunctional\u001b[0m)                    │                        │               │\n",
       "├─────────────────────────────────┼────────────────────────┼───────────────┤\n",
       "│ conv2d (\u001b[38;5;33mConv2D\u001b[0m)                 │ (\u001b[38;5;45mNone\u001b[0m, \u001b[38;5;34m4\u001b[0m, \u001b[38;5;34m4\u001b[0m, \u001b[38;5;34m64\u001b[0m)       │       \u001b[38;5;34m737,344\u001b[0m │\n",
       "├─────────────────────────────────┼────────────────────────┼───────────────┤\n",
       "│ batch_normalization             │ (\u001b[38;5;45mNone\u001b[0m, \u001b[38;5;34m4\u001b[0m, \u001b[38;5;34m4\u001b[0m, \u001b[38;5;34m64\u001b[0m)       │           \u001b[38;5;34m256\u001b[0m │\n",
       "│ (\u001b[38;5;33mBatchNormalization\u001b[0m)            │                        │               │\n",
       "├─────────────────────────────────┼────────────────────────┼───────────────┤\n",
       "│ conv2d_1 (\u001b[38;5;33mConv2D\u001b[0m)               │ (\u001b[38;5;45mNone\u001b[0m, \u001b[38;5;34m4\u001b[0m, \u001b[38;5;34m4\u001b[0m, \u001b[38;5;34m128\u001b[0m)      │        \u001b[38;5;34m73,856\u001b[0m │\n",
       "├─────────────────────────────────┼────────────────────────┼───────────────┤\n",
       "│ batch_normalization_1           │ (\u001b[38;5;45mNone\u001b[0m, \u001b[38;5;34m4\u001b[0m, \u001b[38;5;34m4\u001b[0m, \u001b[38;5;34m128\u001b[0m)      │           \u001b[38;5;34m512\u001b[0m │\n",
       "│ (\u001b[38;5;33mBatchNormalization\u001b[0m)            │                        │               │\n",
       "├─────────────────────────────────┼────────────────────────┼───────────────┤\n",
       "│ max_pooling2d (\u001b[38;5;33mMaxPooling2D\u001b[0m)    │ (\u001b[38;5;45mNone\u001b[0m, \u001b[38;5;34m2\u001b[0m, \u001b[38;5;34m2\u001b[0m, \u001b[38;5;34m128\u001b[0m)      │             \u001b[38;5;34m0\u001b[0m │\n",
       "├─────────────────────────────────┼────────────────────────┼───────────────┤\n",
       "│ global_average_pooling2d        │ (\u001b[38;5;45mNone\u001b[0m, \u001b[38;5;34m128\u001b[0m)            │             \u001b[38;5;34m0\u001b[0m │\n",
       "│ (\u001b[38;5;33mGlobalAveragePooling2D\u001b[0m)        │                        │               │\n",
       "├─────────────────────────────────┼────────────────────────┼───────────────┤\n",
       "│ dropout (\u001b[38;5;33mDropout\u001b[0m)               │ (\u001b[38;5;45mNone\u001b[0m, \u001b[38;5;34m128\u001b[0m)            │             \u001b[38;5;34m0\u001b[0m │\n",
       "├─────────────────────────────────┼────────────────────────┼───────────────┤\n",
       "│ dense (\u001b[38;5;33mDense\u001b[0m)                   │ (\u001b[38;5;45mNone\u001b[0m, \u001b[38;5;34m128\u001b[0m)            │        \u001b[38;5;34m16,512\u001b[0m │\n",
       "├─────────────────────────────────┼────────────────────────┼───────────────┤\n",
       "│ dense_1 (\u001b[38;5;33mDense\u001b[0m)                 │ (\u001b[38;5;45mNone\u001b[0m, \u001b[38;5;34m5\u001b[0m)              │           \u001b[38;5;34m645\u001b[0m │\n",
       "└─────────────────────────────────┴────────────────────────┴───────────────┘\n"
      ]
     },
     "metadata": {},
     "output_type": "display_data"
    },
    {
     "data": {
      "text/html": [
       "<pre style=\"white-space:pre;overflow-x:auto;line-height:normal;font-family:Menlo,'DejaVu Sans Mono',consolas,'Courier New',monospace\"><span style=\"font-weight: bold\"> Total params: </span><span style=\"color: #00af00; text-decoration-color: #00af00\">3,087,109</span> (11.78 MB)\n",
       "</pre>\n"
      ],
      "text/plain": [
       "\u001b[1m Total params: \u001b[0m\u001b[38;5;34m3,087,109\u001b[0m (11.78 MB)\n"
      ]
     },
     "metadata": {},
     "output_type": "display_data"
    },
    {
     "data": {
      "text/html": [
       "<pre style=\"white-space:pre;overflow-x:auto;line-height:normal;font-family:Menlo,'DejaVu Sans Mono',consolas,'Courier New',monospace\"><span style=\"font-weight: bold\"> Trainable params: </span><span style=\"color: #00af00; text-decoration-color: #00af00\">3,052,613</span> (11.64 MB)\n",
       "</pre>\n"
      ],
      "text/plain": [
       "\u001b[1m Trainable params: \u001b[0m\u001b[38;5;34m3,052,613\u001b[0m (11.64 MB)\n"
      ]
     },
     "metadata": {},
     "output_type": "display_data"
    },
    {
     "data": {
      "text/html": [
       "<pre style=\"white-space:pre;overflow-x:auto;line-height:normal;font-family:Menlo,'DejaVu Sans Mono',consolas,'Courier New',monospace\"><span style=\"font-weight: bold\"> Non-trainable params: </span><span style=\"color: #00af00; text-decoration-color: #00af00\">34,496</span> (134.75 KB)\n",
       "</pre>\n"
      ],
      "text/plain": [
       "\u001b[1m Non-trainable params: \u001b[0m\u001b[38;5;34m34,496\u001b[0m (134.75 KB)\n"
      ]
     },
     "metadata": {},
     "output_type": "display_data"
    }
   ],
   "source": [
    "model.summary()"
   ]
  },
  {
   "cell_type": "code",
   "execution_count": 8,
   "id": "6e0e9ae1",
   "metadata": {
    "execution": {
     "iopub.execute_input": "2025-10-07T13:45:55.996694Z",
     "iopub.status.busy": "2025-10-07T13:45:55.996267Z",
     "iopub.status.idle": "2025-10-07T14:26:45.798895Z",
     "shell.execute_reply": "2025-10-07T14:26:45.798174Z"
    },
    "papermill": {
     "duration": 2449.808076,
     "end_time": "2025-10-07T14:26:45.800126",
     "exception": false,
     "start_time": "2025-10-07T13:45:55.992050",
     "status": "completed"
    },
    "tags": []
   },
   "outputs": [
    {
     "name": "stderr",
     "output_type": "stream",
     "text": [
      "/usr/local/lib/python3.11/dist-packages/keras/src/trainers/data_adapters/py_dataset_adapter.py:121: UserWarning: Your `PyDataset` class should call `super().__init__(**kwargs)` in its constructor. `**kwargs` can include `workers`, `use_multiprocessing`, `max_queue_size`. Do not pass these arguments to `fit()`, as they will be ignored.\n",
      "  self._warn_if_super_not_called()\n"
     ]
    },
    {
     "name": "stdout",
     "output_type": "stream",
     "text": [
      "Epoch 1/40\n"
     ]
    },
    {
     "name": "stderr",
     "output_type": "stream",
     "text": [
      "WARNING: All log messages before absl::InitializeLog() is called are written to STDERR\n",
      "I0000 00:00:1759844795.204428      80 service.cc:148] XLA service 0x7f7e60003c40 initialized for platform CUDA (this does not guarantee that XLA will be used). Devices:\n",
      "I0000 00:00:1759844795.205252      80 service.cc:156]   StreamExecutor device (0): Tesla P100-PCIE-16GB, Compute Capability 6.0\n",
      "I0000 00:00:1759844798.758582      80 cuda_dnn.cc:529] Loaded cuDNN version 90300\n",
      "E0000 00:00:1759844804.323340      80 gpu_timer.cc:82] Delay kernel timed out: measured time has sub-optimal accuracy. There may be a missing warmup execution, please investigate in Nsight Systems.\n",
      "E0000 00:00:1759844804.520264      80 gpu_timer.cc:82] Delay kernel timed out: measured time has sub-optimal accuracy. There may be a missing warmup execution, please investigate in Nsight Systems.\n"
     ]
    },
    {
     "name": "stdout",
     "output_type": "stream",
     "text": [
      "\u001b[1m  1/605\u001b[0m \u001b[37m━━━━━━━━━━━━━━━━━━━━\u001b[0m \u001b[1m10:00:58\u001b[0m 60s/step - accuracy: 0.1875 - loss: 1.9943"
     ]
    },
    {
     "name": "stderr",
     "output_type": "stream",
     "text": [
      "I0000 00:00:1759844816.444467      80 device_compiler.h:188] Compiled cluster using XLA!  This line is logged at most once for the lifetime of the process.\n"
     ]
    },
    {
     "name": "stdout",
     "output_type": "stream",
     "text": [
      "\u001b[1m600/605\u001b[0m \u001b[32m━━━━━━━━━━━━━━━━━━━\u001b[0m\u001b[37m━\u001b[0m \u001b[1m1s\u001b[0m 390ms/step - accuracy: 0.4302 - loss: 1.4467"
     ]
    },
    {
     "name": "stderr",
     "output_type": "stream",
     "text": [
      "E0000 00:00:1759845057.402332      81 gpu_timer.cc:82] Delay kernel timed out: measured time has sub-optimal accuracy. There may be a missing warmup execution, please investigate in Nsight Systems.\n",
      "E0000 00:00:1759845057.598377      81 gpu_timer.cc:82] Delay kernel timed out: measured time has sub-optimal accuracy. There may be a missing warmup execution, please investigate in Nsight Systems.\n"
     ]
    },
    {
     "name": "stdout",
     "output_type": "stream",
     "text": [
      "\u001b[1m605/605\u001b[0m \u001b[32m━━━━━━━━━━━━━━━━━━━━\u001b[0m\u001b[37m\u001b[0m \u001b[1m387s\u001b[0m 543ms/step - accuracy: 0.4310 - loss: 1.4452 - val_accuracy: 0.4360 - val_loss: 1.5593 - learning_rate: 0.0010\n",
      "Epoch 2/40\n",
      "\u001b[1m605/605\u001b[0m \u001b[32m━━━━━━━━━━━━━━━━━━━━\u001b[0m\u001b[37m\u001b[0m \u001b[1m121s\u001b[0m 201ms/step - accuracy: 0.6052 - loss: 1.1411 - val_accuracy: 0.4451 - val_loss: 1.5956 - learning_rate: 0.0010\n",
      "Epoch 3/40\n",
      "\u001b[1m605/605\u001b[0m \u001b[32m━━━━━━━━━━━━━━━━━━━━\u001b[0m\u001b[37m\u001b[0m \u001b[1m120s\u001b[0m 198ms/step - accuracy: 0.6429 - loss: 1.0825 - val_accuracy: 0.3837 - val_loss: 1.7829 - learning_rate: 0.0010\n",
      "Epoch 4/40\n",
      "\u001b[1m605/605\u001b[0m \u001b[32m━━━━━━━━━━━━━━━━━━━━\u001b[0m\u001b[37m\u001b[0m \u001b[1m121s\u001b[0m 201ms/step - accuracy: 0.6841 - loss: 1.0009 - val_accuracy: 0.6558 - val_loss: 1.0730 - learning_rate: 2.0000e-04\n",
      "Epoch 5/40\n",
      "\u001b[1m605/605\u001b[0m \u001b[32m━━━━━━━━━━━━━━━━━━━━\u001b[0m\u001b[37m\u001b[0m \u001b[1m121s\u001b[0m 200ms/step - accuracy: 0.7108 - loss: 0.9582 - val_accuracy: 0.6734 - val_loss: 1.0252 - learning_rate: 2.0000e-04\n",
      "Epoch 6/40\n",
      "\u001b[1m605/605\u001b[0m \u001b[32m━━━━━━━━━━━━━━━━━━━━\u001b[0m\u001b[37m\u001b[0m \u001b[1m121s\u001b[0m 200ms/step - accuracy: 0.7208 - loss: 0.9346 - val_accuracy: 0.6966 - val_loss: 0.9769 - learning_rate: 2.0000e-04\n",
      "Epoch 7/40\n",
      "\u001b[1m605/605\u001b[0m \u001b[32m━━━━━━━━━━━━━━━━━━━━\u001b[0m\u001b[37m\u001b[0m \u001b[1m124s\u001b[0m 205ms/step - accuracy: 0.7281 - loss: 0.9253 - val_accuracy: 0.6935 - val_loss: 0.9882 - learning_rate: 2.0000e-04\n",
      "Epoch 8/40\n",
      "\u001b[1m605/605\u001b[0m \u001b[32m━━━━━━━━━━━━━━━━━━━━\u001b[0m\u001b[37m\u001b[0m \u001b[1m119s\u001b[0m 197ms/step - accuracy: 0.7366 - loss: 0.9156 - val_accuracy: 0.6970 - val_loss: 0.9875 - learning_rate: 2.0000e-04\n",
      "Epoch 9/40\n",
      "\u001b[1m605/605\u001b[0m \u001b[32m━━━━━━━━━━━━━━━━━━━━\u001b[0m\u001b[37m\u001b[0m \u001b[1m120s\u001b[0m 198ms/step - accuracy: 0.7603 - loss: 0.8726 - val_accuracy: 0.7216 - val_loss: 0.9288 - learning_rate: 4.0000e-05\n",
      "Epoch 10/40\n",
      "\u001b[1m605/605\u001b[0m \u001b[32m━━━━━━━━━━━━━━━━━━━━\u001b[0m\u001b[37m\u001b[0m \u001b[1m121s\u001b[0m 200ms/step - accuracy: 0.7560 - loss: 0.8673 - val_accuracy: 0.7293 - val_loss: 0.9176 - learning_rate: 4.0000e-05\n",
      "Epoch 11/40\n",
      "\u001b[1m605/605\u001b[0m \u001b[32m━━━━━━━━━━━━━━━━━━━━\u001b[0m\u001b[37m\u001b[0m \u001b[1m121s\u001b[0m 199ms/step - accuracy: 0.7619 - loss: 0.8564 - val_accuracy: 0.7262 - val_loss: 0.9223 - learning_rate: 4.0000e-05\n",
      "Epoch 12/40\n",
      "\u001b[1m605/605\u001b[0m \u001b[32m━━━━━━━━━━━━━━━━━━━━\u001b[0m\u001b[37m\u001b[0m \u001b[1m121s\u001b[0m 200ms/step - accuracy: 0.7712 - loss: 0.8412 - val_accuracy: 0.7324 - val_loss: 0.9117 - learning_rate: 4.0000e-05\n",
      "Epoch 13/40\n",
      "\u001b[1m605/605\u001b[0m \u001b[32m━━━━━━━━━━━━━━━━━━━━\u001b[0m\u001b[37m\u001b[0m \u001b[1m120s\u001b[0m 198ms/step - accuracy: 0.7792 - loss: 0.8321 - val_accuracy: 0.7317 - val_loss: 0.9122 - learning_rate: 4.0000e-05\n",
      "Epoch 14/40\n",
      "\u001b[1m605/605\u001b[0m \u001b[32m━━━━━━━━━━━━━━━━━━━━\u001b[0m\u001b[37m\u001b[0m \u001b[1m122s\u001b[0m 202ms/step - accuracy: 0.7766 - loss: 0.8297 - val_accuracy: 0.7289 - val_loss: 0.9218 - learning_rate: 4.0000e-05\n",
      "Epoch 15/40\n",
      "\u001b[1m605/605\u001b[0m \u001b[32m━━━━━━━━━━━━━━━━━━━━\u001b[0m\u001b[37m\u001b[0m \u001b[1m119s\u001b[0m 197ms/step - accuracy: 0.7819 - loss: 0.8226 - val_accuracy: 0.7326 - val_loss: 0.9029 - learning_rate: 8.0000e-06\n",
      "Epoch 16/40\n",
      "\u001b[1m605/605\u001b[0m \u001b[32m━━━━━━━━━━━━━━━━━━━━\u001b[0m\u001b[37m\u001b[0m \u001b[1m121s\u001b[0m 200ms/step - accuracy: 0.7768 - loss: 0.8284 - val_accuracy: 0.7361 - val_loss: 0.9046 - learning_rate: 8.0000e-06\n",
      "Epoch 17/40\n",
      "\u001b[1m605/605\u001b[0m \u001b[32m━━━━━━━━━━━━━━━━━━━━\u001b[0m\u001b[37m\u001b[0m \u001b[1m127s\u001b[0m 209ms/step - accuracy: 0.7883 - loss: 0.8088 - val_accuracy: 0.7299 - val_loss: 0.9154 - learning_rate: 8.0000e-06\n",
      "Epoch 18/40\n",
      "\u001b[1m605/605\u001b[0m \u001b[32m━━━━━━━━━━━━━━━━━━━━\u001b[0m\u001b[37m\u001b[0m \u001b[1m122s\u001b[0m 202ms/step - accuracy: 0.7856 - loss: 0.8148 - val_accuracy: 0.7382 - val_loss: 0.9035 - learning_rate: 1.6000e-06\n"
     ]
    },
    {
     "data": {
      "text/plain": [
       "<keras.src.callbacks.history.History at 0x7f7f14788510>"
      ]
     },
     "execution_count": 8,
     "metadata": {},
     "output_type": "execute_result"
    }
   ],
   "source": [
    "\n",
    "model.fit(\n",
    "    train_data,\n",
    "    epochs=40,\n",
    "    validation_data=val_data,\n",
    "    callbacks=[early_stopping, reduce_lr]\n",
    ")"
   ]
  },
  {
   "cell_type": "code",
   "execution_count": 9,
   "id": "d689d5fb",
   "metadata": {
    "execution": {
     "iopub.execute_input": "2025-10-07T14:26:46.826453Z",
     "iopub.status.busy": "2025-10-07T14:26:46.826163Z",
     "iopub.status.idle": "2025-10-07T14:27:50.844543Z",
     "shell.execute_reply": "2025-10-07T14:27:50.843631Z"
    },
    "papermill": {
     "duration": 64.919548,
     "end_time": "2025-10-07T14:27:51.182809",
     "exception": false,
     "start_time": "2025-10-07T14:26:46.263261",
     "status": "completed"
    },
    "tags": []
   },
   "outputs": [
    {
     "name": "stdout",
     "output_type": "stream",
     "text": [
      "\u001b[1m189/189\u001b[0m \u001b[32m━━━━━━━━━━━━━━━━━━━━\u001b[0m\u001b[37m\u001b[0m \u001b[1m63s\u001b[0m 318ms/step\n"
     ]
    }
   ],
   "source": [
    "pred2=model.predict(test_data)"
   ]
  },
  {
   "cell_type": "code",
   "execution_count": 10,
   "id": "44beb9e4",
   "metadata": {
    "execution": {
     "iopub.execute_input": "2025-10-07T14:27:52.197833Z",
     "iopub.status.busy": "2025-10-07T14:27:52.197520Z",
     "iopub.status.idle": "2025-10-07T14:27:52.203362Z",
     "shell.execute_reply": "2025-10-07T14:27:52.202508Z"
    },
    "papermill": {
     "duration": 0.46778,
     "end_time": "2025-10-07T14:27:52.204530",
     "exception": false,
     "start_time": "2025-10-07T14:27:51.736750",
     "status": "completed"
    },
    "tags": []
   },
   "outputs": [
    {
     "name": "stdout",
     "output_type": "stream",
     "text": [
      "0.7454906503392354\n"
     ]
    }
   ],
   "source": [
    "\n",
    "print(accuracy_score(test_data.labels, np.argmax(pred2, axis=1)))"
   ]
  },
  {
   "cell_type": "code",
   "execution_count": 11,
   "id": "5b8bb591",
   "metadata": {
    "execution": {
     "iopub.execute_input": "2025-10-07T14:27:53.131292Z",
     "iopub.status.busy": "2025-10-07T14:27:53.130685Z",
     "iopub.status.idle": "2025-10-07T14:27:53.143151Z",
     "shell.execute_reply": "2025-10-07T14:27:53.142116Z"
    },
    "papermill": {
     "duration": 0.478504,
     "end_time": "2025-10-07T14:27:53.144393",
     "exception": false,
     "start_time": "2025-10-07T14:27:52.665889",
     "status": "completed"
    },
    "tags": []
   },
   "outputs": [
    {
     "name": "stdout",
     "output_type": "stream",
     "text": [
      "              precision    recall  f1-score   support\n",
      "\n",
      "           0       0.72      0.62      0.67       958\n",
      "           1       0.88      0.89      0.88      1774\n",
      "           2       0.63      0.64      0.63      1247\n",
      "           3       0.87      0.83      0.85       831\n",
      "           4       0.62      0.69      0.65      1233\n",
      "\n",
      "    accuracy                           0.75      6043\n",
      "   macro avg       0.74      0.73      0.74      6043\n",
      "weighted avg       0.75      0.75      0.75      6043\n",
      "\n"
     ]
    }
   ],
   "source": [
    "from sklearn.metrics import classification_report \n",
    "print(classification_report(test_data.classes,np.argmax(pred2, axis=1)))"
   ]
  },
  {
   "cell_type": "code",
   "execution_count": 12,
   "id": "824a8a49",
   "metadata": {
    "execution": {
     "iopub.execute_input": "2025-10-07T14:27:54.183858Z",
     "iopub.status.busy": "2025-10-07T14:27:54.182947Z",
     "iopub.status.idle": "2025-10-07T14:27:54.901641Z",
     "shell.execute_reply": "2025-10-07T14:27:54.901018Z"
    },
    "papermill": {
     "duration": 1.184996,
     "end_time": "2025-10-07T14:27:54.903126",
     "exception": false,
     "start_time": "2025-10-07T14:27:53.718130",
     "status": "completed"
    },
    "tags": []
   },
   "outputs": [],
   "source": [
    "model.save('mobilenetv2.keras')"
   ]
  }
 ],
 "metadata": {
  "kaggle": {
   "accelerator": "gpu",
   "dataSources": [
    {
     "datasetId": 786787,
     "sourceId": 1351797,
     "sourceType": "datasetVersion"
    }
   ],
   "dockerImageVersionId": 31154,
   "isGpuEnabled": true,
   "isInternetEnabled": true,
   "language": "python",
   "sourceType": "notebook"
  },
  "kernelspec": {
   "display_name": "Python 3",
   "language": "python",
   "name": "python3"
  },
  "language_info": {
   "codemirror_mode": {
    "name": "ipython",
    "version": 3
   },
   "file_extension": ".py",
   "mimetype": "text/x-python",
   "name": "python",
   "nbconvert_exporter": "python",
   "pygments_lexer": "ipython3",
   "version": "3.11.13"
  },
  "papermill": {
   "default_parameters": {},
   "duration": 2575.258846,
   "end_time": "2025-10-07T14:27:58.986160",
   "environment_variables": {},
   "exception": null,
   "input_path": "__notebook__.ipynb",
   "output_path": "__notebook__.ipynb",
   "parameters": {},
   "start_time": "2025-10-07T13:45:03.727314",
   "version": "2.6.0"
  }
 },
 "nbformat": 4,
 "nbformat_minor": 5
}
